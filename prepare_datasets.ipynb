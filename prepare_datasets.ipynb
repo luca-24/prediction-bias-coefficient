{
 "cells": [
  {
   "cell_type": "code",
   "execution_count": 1,
   "metadata": {},
   "outputs": [],
   "source": [
    "import os, re, unidecode\n",
    "import pandas as pd\n",
    "from gensim.parsing import preprocessing as pproc"
   ]
  },
  {
   "cell_type": "code",
   "execution_count": 2,
   "metadata": {},
   "outputs": [],
   "source": [
    "apply_preprocessing = False"
   ]
  },
  {
   "cell_type": "code",
   "execution_count": 3,
   "metadata": {},
   "outputs": [],
   "source": [
    "\"\"\"\n",
    "Apply standard pre-processing techniques to a text and return the normalized string.\n",
    "\"\"\"\n",
    "def process_text(string, remove_stopwords=True, stemming=False):\n",
    "    \n",
    "    string = unidecode.unidecode(string)\n",
    "    string = string.lower()\n",
    "    abbreviations = re.findall(r'(?:[a-z]\\.)+', string)\n",
    "    for abbr in abbreviations:\n",
    "        string = string.replace(abbr, abbr.replace('.',''))\n",
    "    string = pproc.strip_punctuation2(string)\n",
    "    if remove_stopwords:\n",
    "        string = pproc.remove_stopwords(string)\n",
    "    if stemming:\n",
    "        string = pproc.stem_text(string)\n",
    "    string = string.strip()\n",
    "    return string"
   ]
  },
  {
   "cell_type": "code",
   "execution_count": 4,
   "metadata": {},
   "outputs": [],
   "source": [
    "def prepare_reuters():\n",
    "    data = []\n",
    "    ids = []\n",
    "    for file_name in os.listdir('data/reuters/documents'):\n",
    "        with open('data/reuters/documents/'+file_name, 'r') as file:\n",
    "            content = file.read()\n",
    "            for document in content.split('<REUTERS')[1:]:\n",
    "\n",
    "                if document.find('<TEXT TYPE=\"BRIEF\"') != -1 or document.find('<TEXT TYPE=\"UNPROC\"') != -1:\n",
    "                    continue\n",
    "\n",
    "                id_start = document.find('NEWID=\"') + len('NEWID=\"')\n",
    "                id_end = id_start + document[id_start:].find('\">')\n",
    "                doc_id = int(document[id_start:id_end])\n",
    "                ids.append(doc_id)\n",
    "\n",
    "                start_topics = document.find('<TOPICS>') + len('<TOPICS>')\n",
    "                end_topics = document.find('</TOPICS>')\n",
    "                topic_tags = document[start_topics:end_topics]\n",
    "                topics = []\n",
    "                while len(topic_tags) > 0:\n",
    "                    start_index = topic_tags.find('<D>') + len('<D>')\n",
    "                    end_index = topic_tags.find('</D>')\n",
    "                    topics.append(topic_tags[start_index:end_index])\n",
    "                    topic_tags = topic_tags[end_index+len('</D>'):]\n",
    "                if len(topics) > 0:\n",
    "                    topics = ','.join(topics)\n",
    "                else:\n",
    "                    topics = ''\n",
    "                start_body = document.find('<BODY>') + len('<BODY>')\n",
    "                end_body = document.find('</BODY>')\n",
    "                body = document[start_body:end_body]\n",
    "                body = body.replace('\\n', ' ')\n",
    "                body = body.replace('     ', ' ')\n",
    "                body = re.sub(' +', ' ', body)\n",
    "                body = body.replace(' Reuter &#3;', '')\n",
    "\n",
    "                if apply_preprocessing:\n",
    "                    body = process_text(body)\n",
    "\n",
    "                data.append({'doc_id':doc_id, 'labels':topics, 'text':body})\n",
    "    df = pd.DataFrame(data, index=ids)\n",
    "    df.to_csv('data/reuters.csv', index=False)"
   ]
  },
  {
   "cell_type": "code",
   "execution_count": 5,
   "metadata": {},
   "outputs": [],
   "source": [
    "def prepare_webscope():\n",
    "    df = pd.read_table('data/webscope/Webscope_R4/movie_db_yoda', sep='\\t', encoding='ISO-8859-1',\n",
    "                       names=['doc_id', 'text', 'labels'], usecols=[0,2,10], index_col=0)\n",
    "\n",
    "    df['labels'] = [','.join(genres.split('|')) for genres in df['labels']]\n",
    "    if apply_preprocessing:\n",
    "        df['text'] = [process_text(t) for t in df['text']]\n",
    "    df.to_csv('data/webscope_r4.csv')"
   ]
  },
  {
   "cell_type": "code",
   "execution_count": 6,
   "metadata": {},
   "outputs": [],
   "source": [
    "prepare_webscope()"
   ]
  }
 ],
 "metadata": {
  "kernelspec": {
   "display_name": "Python 3",
   "language": "python",
   "name": "python3"
  },
  "language_info": {
   "codemirror_mode": {
    "name": "ipython",
    "version": 3
   },
   "file_extension": ".py",
   "mimetype": "text/x-python",
   "name": "python",
   "nbconvert_exporter": "python",
   "pygments_lexer": "ipython3",
   "version": "3.6.7"
  }
 },
 "nbformat": 4,
 "nbformat_minor": 4
}
